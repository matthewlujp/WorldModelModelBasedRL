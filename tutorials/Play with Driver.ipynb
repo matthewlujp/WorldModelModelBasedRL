{
 "cells": [
  {
   "cell_type": "code",
   "execution_count": 50,
   "metadata": {},
   "outputs": [],
   "source": [
    "import numpy as np\n",
    "\n",
    "import tensorflow as tf\n",
    "\n",
    "from tf_agents.environments import suite_gym, tf_py_environment\n",
    "from tf_agents.drivers import dynamic_episode_driver, dynamic_step_driver\n",
    "from tf_agents.replay_buffers import tf_uniform_replay_buffer\n",
    "from tf_agents.policies import random_tf_policy\n",
    "from tf_agents.trajectories import trajectory\n",
    "from tf_agents.metrics import tf_metrics"
   ]
  },
  {
   "cell_type": "markdown",
   "metadata": {},
   "source": [
    "# Try DynamicEpisodeDriver"
   ]
  },
  {
   "cell_type": "code",
   "execution_count": 49,
   "metadata": {},
   "outputs": [
    {
     "name": "stdout",
     "output_type": "stream",
     "text": [
      "final_time_step:\n",
      " TimeStep(step_type=<tf.Tensor: shape=(1,), dtype=int32, numpy=array([0], dtype=int32)>, reward=<tf.Tensor: shape=(1,), dtype=float32, numpy=array([0.], dtype=float32)>, discount=<tf.Tensor: shape=(1,), dtype=float32, numpy=array([1.], dtype=float32)>, observation=<tf.Tensor: shape=(1, 4), dtype=float32, numpy=\n",
      "array([[ 0.02972457, -0.00550822, -0.04527468,  0.03920949]],\n",
      "      dtype=float32)>)\n",
      "\n",
      "Number of observations in the replay_buffer: 35\n",
      "Episode number: 2\n",
      "Steps: 33 (do not count the last observation in an episode)\n",
      "Avg. episode duration: 16.5\n",
      "Avg. return: 16.5\n"
     ]
    }
   ],
   "source": [
    "env = suite_gym.load(\"CartPole-v0\")\n",
    "tf_env = tf_py_environment.TFPyEnvironment(env)\n",
    "\n",
    "my_random_policy = random_tf_policy.RandomTFPolicy(tf_env.time_step_spec(), tf_env.action_spec())\n",
    "\n",
    "avg_episode_length = tf_metrics.AverageEpisodeLengthMetric()\n",
    "avg_return = tf_metrics.AverageReturnMetric()\n",
    "num_episodes = tf_metrics.NumberOfEpisodes()\n",
    "env_steps = tf_metrics.EnvironmentSteps()\n",
    "\n",
    "\n",
    "collect_data_spec = trajectory.Trajectory(\n",
    "    step_type=tf_env.time_step_spec().step_type,\n",
    "    observation=tf_env.observation_spec(),\n",
    "    action=tf_env.action_spec(),\n",
    "    next_step_type=tf_env.time_step_spec().step_type,\n",
    "    reward=tf_env.time_step_spec().reward,\n",
    "    discount=tf_env.time_step_spec().discount,\n",
    "    policy_info=(),\n",
    ")\n",
    "replay_buffer = tf_uniform_replay_buffer.TFUniformReplayBuffer(\n",
    "    data_spec=collect_data_spec,\n",
    "    batch_size=tf_env.batch_size,\n",
    "    max_length=10000\n",
    ")\n",
    "\n",
    "driver = dynamic_episode_driver.DynamicEpisodeDriver(\n",
    "    tf_env,\n",
    "    my_random_policy,\n",
    "    observers=[avg_episode_length, avg_return, num_episodes, env_steps, replay_buffer.add_batch],\n",
    "    num_episodes=2,\n",
    ")\n",
    "\n",
    "\n",
    "final_time_step, policy_state = driver.run()\n",
    "\n",
    "print(\"final_time_step:\\n\", final_time_step)\n",
    "print(\"\\nNumber of observations in the replay_buffer:\", replay_buffer.num_frames().numpy())\n",
    "print(\"Episode number:\", num_episodes.result().numpy())\n",
    "print(\"Steps:\", env_steps.result().numpy(), \"(do not count the last observation in an episode)\")\n",
    "print(\"Avg. episode duration:\", avg_episode_length.result().numpy())\n",
    "print(\"Avg. return:\", avg_return.result().numpy())"
   ]
  }
 ],
 "metadata": {
  "kernelspec": {
   "display_name": "Python 3",
   "language": "python",
   "name": "python3"
  },
  "language_info": {
   "codemirror_mode": {
    "name": "ipython",
    "version": 3
   },
   "file_extension": ".py",
   "mimetype": "text/x-python",
   "name": "python",
   "nbconvert_exporter": "python",
   "pygments_lexer": "ipython3",
   "version": "3.7.5"
  },
  "toc-autonumbering": false
 },
 "nbformat": 4,
 "nbformat_minor": 4
}
